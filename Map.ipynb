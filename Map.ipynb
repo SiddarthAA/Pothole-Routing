{
 "cells": [
  {
   "cell_type": "code",
   "execution_count": 6,
   "metadata": {},
   "outputs": [
    {
     "name": "stdout",
     "output_type": "stream",
     "text": [
      "Map saved to Map.html\n"
     ]
    }
   ],
   "source": [
    "import folium\n",
    "\n",
    "def create_map_with_pothole_markers(potholes, map_file='Map.html'):\n",
    "    # Create a base map\n",
    "    base_map = folium.Map(location=[0, 0], zoom_start=2)\n",
    "\n",
    "    # Define colors for each pothole intensity\n",
    "    intensity_colors = {\n",
    "        \"Severe Hazard Pothole\": \"red\",\n",
    "        \"Moderate Risk Pothole\": \"orange\",\n",
    "        \"Minor Issue Pothole\": \"green\"\n",
    "    }\n",
    "\n",
    "    # Add markers to the map\n",
    "    for lat, lon, intensity in potholes:\n",
    "        color = intensity_colors.get(intensity, \"blue\")  # Default to blue if intensity not found\n",
    "        folium.Marker(\n",
    "            location=[lat, lon],\n",
    "            icon=folium.Icon(icon='exclamation-triangle', prefix='fa', color=color),\n",
    "            popup=intensity\n",
    "        ).add_to(base_map)\n",
    "\n",
    "    # Save the map to an HTML file\n",
    "    base_map.save(map_file)\n",
    "    print(f\"Map saved to {map_file}\")\n",
    "\n",
    "# Example usage\n",
    "potholes = [\n",
    "    (37.7749, -122.4194, \"Severe Hazard Pothole\"),  # San Francisco\n",
    "    (34.0522, -118.2437, \"Moderate Risk Pothole\"),  # Los Angeles\n",
    "    (40.7128, -74.0060, \"Minor Issue Pothole\"),     # New York\n",
    "    (51.5074, -0.1278, \"Severe Hazard Pothole\"),    # London\n",
    "    (48.8566, 2.3522, \"Moderate Risk Pothole\")      # Paris\n",
    "]\n",
    "\n",
    "create_map_with_pothole_markers(potholes)"
   ]
  },
  {
   "cell_type": "code",
   "execution_count": null,
   "metadata": {},
   "outputs": [],
   "source": []
  }
 ],
 "metadata": {
  "kernelspec": {
   "display_name": "Alt",
   "language": "python",
   "name": "python3"
  },
  "language_info": {
   "codemirror_mode": {
    "name": "ipython",
    "version": 3
   },
   "file_extension": ".py",
   "mimetype": "text/x-python",
   "name": "python",
   "nbconvert_exporter": "python",
   "pygments_lexer": "ipython3",
   "version": "3.11.6"
  }
 },
 "nbformat": 4,
 "nbformat_minor": 2
}
